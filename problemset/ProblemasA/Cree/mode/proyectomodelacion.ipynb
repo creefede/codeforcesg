{
 "cells": [
  {
   "cell_type": "code",
   "execution_count": 6,
   "id": "72234899-e531-441d-b765-23e3c9edf7d0",
   "metadata": {},
   "outputs": [],
   "source": [
    "import mesa\n",
    "from mesa import Agent, Model\n",
    "from mesa.space import MultiGrid\n"
   ]
  },
  {
   "cell_type": "markdown",
   "id": "7817cd0f-9823-4618-858a-4a41808059d3",
   "metadata": {},
   "source": [
    "Muerte a net logo"
   ]
  },
  {
   "cell_type": "code",
   "execution_count": 16,
   "id": "4cc436d8-8711-4b94-9b2f-9fd99eea5824",
   "metadata": {},
   "outputs": [],
   "source": [
    "#Gracias fundamentos por todo\n",
    "#Este bloque es para los agentes\n",
    "#El self de los metodos es como el .this de java, el unique_id es el identificador que también le daba el puto netlogo \n",
    "#y el model pues el modelo\n",
    "class Agmercado(Agent):\n",
    "    def __init__(self,unique_id,model):\n",
    "        super().__init__(unique_id,model) #llama al constructor de la clase agente pa que mesa registre eso bien\n",
    "        #aca irian los atributos del bicho\n",
    "    def step(self):\n",
    "        #cosas que hace al dar los ticks\n",
    "        print(f\"Agente de mercado con id: {self.unique_id} está diciendo esto\")\n",
    "\n",
    "class Minero(Agent):\n",
    "    def __init__(self,unique_id,model):\n",
    "        super().__init__(unique_id,model)\n",
    "        #same \n",
    "    def step(self):\n",
    "        #cosas que hace al dar los ticks    \n",
    "        print(f\"Minero con id: {self.unique_id} está diciendo esto\")\n",
    "    "
   ]
  },
  {
   "cell_type": "code",
   "execution_count": 18,
   "id": "a3282019-468f-4d28-8f85-0eed711bf62a",
   "metadata": {},
   "outputs": [],
   "source": [
    "#Este bloque es para el modelo\n",
    "class Blockchain(Model):\n",
    "    def __init__(self,numagmercado,nummineros):\n",
    "        #inicio listas vacias pal constructor\n",
    "        self.agmercado = []\n",
    "        self.mineros = []\n",
    "        \n",
    "        #como recibo el numero, los meto en las listas\n",
    "        for i in  range(numagmercado):\n",
    "            agente = Agmercado(i,self) #Llamo a la clase Agmercado pa que me queden de ese tipo de dato\n",
    "            self.agmercado.append(agente)\n",
    "        #Hago lo mismo pero con los mineros\n",
    "        for j in range(nummineros):\n",
    "            agente = Minero(j+numagmercado,self) #Hago j+numagmercado para el unique_id, simplemente le sumo el numero de agentesmerc\n",
    "            self.mineros.append(agente)\n",
    "    #Metodo self se encarga de que se hace al pa los ticks \n",
    "    def step(self):\n",
    "        self.schedule.step() #Metodo pa llamar al step de todos los agentes\n",
    "        #Tengo que hacer lo del random activation para el scheduler"
   ]
  }
 ],
 "metadata": {
  "kernelspec": {
   "display_name": "Python (Mesa)",
   "language": "python",
   "name": "mesa-env"
  },
  "language_info": {
   "codemirror_mode": {
    "name": "ipython",
    "version": 3
   },
   "file_extension": ".py",
   "mimetype": "text/x-python",
   "name": "python",
   "nbconvert_exporter": "python",
   "pygments_lexer": "ipython3",
   "version": "3.13.2"
  }
 },
 "nbformat": 4,
 "nbformat_minor": 5
}
